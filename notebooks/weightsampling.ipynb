{
 "cells": [
  {
   "cell_type": "code",
   "execution_count": 1,
   "metadata": {},
   "outputs": [
    {
     "name": "stderr",
     "output_type": "stream",
     "text": [
      "/home/hatta/.virtualenvs/Singleshot/lib/python3.6/site-packages/h5py/__init__.py:36: FutureWarning: Conversion of the second argument of issubdtype from `float` to `np.floating` is deprecated. In future, it will be treated as `np.float64 == np.dtype(float).type`.\n",
      "  from ._conv import register_converters as _register_converters\n"
     ]
    }
   ],
   "source": [
    "import h5py\n",
    "import numpy as np\n",
    "import shutil"
   ]
  },
  {
   "cell_type": "code",
   "execution_count": 2,
   "metadata": {},
   "outputs": [],
   "source": [
    "weights_source_path = 'trained_weights/VGG_coco_SSD_300x300_iter_400000.h5'\n",
    "weights_destination_path = 'trained_weights/VGG_coco_SSD_300x300_iter_400000_subsampled.h5'\n",
    "shutil.copy(weights_source_path, weights_destination_path)\n",
    "weights_source_file = h5py.File(weights_source_path, 'r')\n",
    "weights_destination_file = h5py.File(weights_destination_path)"
   ]
  },
  {
   "cell_type": "code",
   "execution_count": 3,
   "metadata": {},
   "outputs": [
    {
     "ename": "ModuleNotFoundError",
     "evalue": "No module named 'tensor_sampling_utils'",
     "output_type": "error",
     "traceback": [
      "\u001b[0;31m---------------------------------------------------------------------------\u001b[0m",
      "\u001b[0;31mModuleNotFoundError\u001b[0m                       Traceback (most recent call last)",
      "\u001b[0;32m<ipython-input-3-2b7d799c2f18>\u001b[0m in \u001b[0;36m<module>\u001b[0;34m()\u001b[0m\n\u001b[0;32m----> 1\u001b[0;31m \u001b[0;32mfrom\u001b[0m \u001b[0mtensor_sampling_utils\u001b[0m \u001b[0;32mimport\u001b[0m \u001b[0msample_tensors\u001b[0m\u001b[0;34m\u001b[0m\u001b[0m\n\u001b[0m\u001b[1;32m      2\u001b[0m classifier_names = ['conv4_3_norm_mbox_conf',\n\u001b[1;32m      3\u001b[0m                     \u001b[0;34m'fc7_mbox_conf'\u001b[0m\u001b[0;34m,\u001b[0m\u001b[0;34m\u001b[0m\u001b[0m\n\u001b[1;32m      4\u001b[0m                     \u001b[0;34m'conv6_2_mbox_conf'\u001b[0m\u001b[0;34m,\u001b[0m\u001b[0;34m\u001b[0m\u001b[0m\n\u001b[1;32m      5\u001b[0m                     \u001b[0;34m'conv7_2_mbox_conf'\u001b[0m\u001b[0;34m,\u001b[0m\u001b[0;34m\u001b[0m\u001b[0m\n",
      "\u001b[0;31mModuleNotFoundError\u001b[0m: No module named 'tensor_sampling_utils'"
     ]
    }
   ],
   "source": [
    "from tensor_sampling_utils import sample_tensors\n",
    "classifier_names = ['conv4_3_norm_mbox_conf',\n",
    "                    'fc7_mbox_conf',\n",
    "                    'conv6_2_mbox_conf',\n",
    "                    'conv7_2_mbox_conf',\n",
    "                    'conv8_2_mbox_conf',\n",
    "                    'conv9_2_mbox_conf']\n",
    "n_classes_source = 81\n",
    "# ['background', 'car', 'truck', 'pedestrian', stop_sign']\n",
    "classes_of_interest = [0, 3, 8, 1, 12]\n",
    "\n",
    "for name in classifier_names:\n",
    "    kernel = weights_source_file[name][name]['kernel:0'].value\n",
    "    bias = weights_source_file[name][name]['bias:0'].value\n",
    "    height, width, in_channels, out_channels = kernel.shape\n",
    "    subsampling_indices = []\n",
    "    for i in range(int(out_channels/n_classes_source)):\n",
    "        indices = np.array(classes_of_interest) + i * n_classes_source\n",
    "        subsampling_indices.append(indices)\n",
    "    subsampling_indices = list(np.concatenate(subsampling_indices))\n",
    "    new_kernel, new_bias = sample_tensors(weights_list=[kernel, bias],\n",
    "                                          sampling_instructions=[height, width, in_channels, subsampling_indices],\n",
    "                                          axes=[[3]], # The one bias dimension corresponds to the last kernel dimension.\n",
    "                                          init=['gaussian', 'zeros'],\n",
    "                                          mean=0.0,\n",
    "                                          stddev=0.005)\n",
    "    del weights_destination_file[name][name]['kernel:0']\n",
    "    del weights_destination_file[name][name]['bias:0']\n",
    "    weights_destination_file[name][name].create_dataset(name='kernel:0', data=new_kernel)\n",
    "    weights_destination_file[name][name].create_dataset(name='bias:0', data=new_bias)"
   ]
  },
  {
   "cell_type": "code",
   "execution_count": 15,
   "metadata": {},
   "outputs": [
    {
     "name": "stdout",
     "output_type": "stream",
     "text": [
      "Shape of the 'conv4_3_norm_mbox_conf' weights:\n",
      "kernel:\t (3, 3, 512, 20)\n",
      "bias:\t (20,)\n",
      "\n",
      "Shape of the 'fc7_mbox_conf' weights:\n",
      "kernel:\t (3, 3, 1024, 30)\n",
      "bias:\t (30,)\n",
      "\n",
      "Shape of the 'conv6_2_mbox_conf' weights:\n",
      "kernel:\t (3, 3, 512, 30)\n",
      "bias:\t (30,)\n",
      "\n",
      "Shape of the 'conv7_2_mbox_conf' weights:\n",
      "kernel:\t (3, 3, 256, 30)\n",
      "bias:\t (30,)\n",
      "\n",
      "Shape of the 'conv8_2_mbox_conf' weights:\n",
      "kernel:\t (3, 3, 256, 20)\n",
      "bias:\t (20,)\n",
      "\n",
      "Shape of the 'conv9_2_mbox_conf' weights:\n",
      "kernel:\t (3, 3, 256, 20)\n",
      "bias:\t (20,)\n",
      "\n"
     ]
    }
   ],
   "source": [
    "for name in classifier_names:\n",
    "    res_kernel = weights_destination_file[name][name]['kernel:0']\n",
    "    res_bias = weights_destination_file[name][name]['bias:0']\n",
    "\n",
    "    print(\"Shape of the '{}' weights:\".format(name))\n",
    "    print(\"kernel:\\t\", res_kernel.shape)\n",
    "    print(\"bias:\\t\", res_bias.shape)\n",
    "    print()"
   ]
  },
  {
   "cell_type": "code",
   "execution_count": null,
   "metadata": {},
   "outputs": [],
   "source": []
  }
 ],
 "metadata": {
  "kernelspec": {
   "display_name": "Singleshot",
   "language": "python",
   "name": "singleshot"
  },
  "language_info": {
   "codemirror_mode": {
    "name": "ipython",
    "version": 3
   },
   "file_extension": ".py",
   "mimetype": "text/x-python",
   "name": "python",
   "nbconvert_exporter": "python",
   "pygments_lexer": "ipython3",
   "version": "3.6.3"
  }
 },
 "nbformat": 4,
 "nbformat_minor": 2
}
