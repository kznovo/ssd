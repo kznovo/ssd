{
 "cells": [
  {
   "cell_type": "code",
   "execution_count": 1,
   "metadata": {},
   "outputs": [
    {
     "name": "stdout",
     "output_type": "stream",
     "text": [
      "importing modules...\n"
     ]
    },
    {
     "name": "stderr",
     "output_type": "stream",
     "text": [
      "/home/hatta/.virtualenvs/Singleshot/lib/python3.6/site-packages/h5py/__init__.py:36: FutureWarning: Conversion of the second argument of issubdtype from `float` to `np.floating` is deprecated. In future, it will be treated as `np.float64 == np.dtype(float).type`.\n",
      "  from ._conv import register_converters as _register_converters\n",
      "Using TensorFlow backend.\n"
     ]
    },
    {
     "name": "stdout",
     "output_type": "stream",
     "text": [
      "generating model\n",
      "WARNING:tensorflow:From /home/hatta/.virtualenvs/Singleshot/lib/python3.6/site-packages/keras/backend/tensorflow_backend.py:3148: calling l2_normalize (from tensorflow.python.ops.nn_impl) with dim is deprecated and will be removed in a future version.\n",
      "Instructions for updating:\n",
      "dim is deprecated, use axis instead\n",
      "model created\n",
      "CPU times: user 3.67 s, sys: 2.43 s, total: 6.1 s\n",
      "Wall time: 3.01 s\n"
     ]
    }
   ],
   "source": [
    "%%time\n",
    "print('importing modules...')\n",
    "import tensorflow as tf\n",
    "import keras\n",
    "import sys, os\n",
    "import cv2\n",
    "import pandas as pd\n",
    "import numpy as np\n",
    "import matplotlib.pyplot as plt\n",
    "import datetime\n",
    "from imageio import imread\n",
    "from PIL import Image\n",
    "from random import randint\n",
    "\n",
    "sys.path.append(os.pardir)\n",
    "from ssd_vgg16 import SSD\n",
    "from utils import SSDUtils\n",
    "\n",
    "annotations = {'Car':100, 'Truck':100, 'Pedestrian':100, 'stop_sign':100}\n",
    "fmap = {'conv4_3_norm': [1.0, 2.0, 1.0/2.0],\n",
    "        'fc7': [1.0, 2.0, 3.0, 1.0/2.0, 1.0/3.0],\n",
    "        'conv6_2': [1.0, 2.0, 3.0, 1.0/2.0, 1.0/3.0],\n",
    "        'conv7_2': [1.0, 2.0, 3.0, 1.0/2.0, 1.0/3.0],\n",
    "        'conv8_2': [1.0, 2.0, 1.0/2.0],\n",
    "        'conv9_2': [1.0, 2.0, 1.0/2.0]}\n",
    "input_shape = (300, 300, 3)\n",
    "img_folderpath = \n",
    "\n",
    "NUM_CLASSES = len(annotations) + 1\n",
    "print(\"generating model\")\n",
    "model = SSD(input_shape, num_classes=NUM_CLASSES, fmap=fmap)\n",
    "ssdutils = SSDUtils(model=model, fmap=fmap, input_shape=input_shape)\n",
    "print(\"model created\")"
   ]
  },
  {
   "cell_type": "code",
   "execution_count": null,
   "metadata": {},
   "outputs": [],
   "source": []
  }
 ],
 "metadata": {
  "kernelspec": {
   "display_name": "Singleshot",
   "language": "python",
   "name": "singleshot"
  },
  "language_info": {
   "codemirror_mode": {
    "name": "ipython",
    "version": 3
   },
   "file_extension": ".py",
   "mimetype": "text/x-python",
   "name": "python",
   "nbconvert_exporter": "python",
   "pygments_lexer": "ipython3",
   "version": "3.6.3"
  }
 },
 "nbformat": 4,
 "nbformat_minor": 2
}
